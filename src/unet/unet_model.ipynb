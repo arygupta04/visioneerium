{
 "cells": [
  {
   "cell_type": "code",
   "execution_count": 1,
   "id": "3708b0ee",
   "metadata": {},
   "outputs": [],
   "source": [
    "import os\n",
    "import glob\n",
    "import json\n",
    "import pandas as pd\n",
    "from pycocotools.coco import COCO\n",
    "from PIL import Image\n",
    "import numpy as np\n",
    "import skimage.io as io\n",
    "from matplotlib import pyplot as plt\n",
    "from pprint import pprint\n",
    "import cv2\n",
    "#import segmentation_models as sm \n",
    "#import tensorflow as tf\n",
    "from pycocotools import mask as coco_mask \n",
    "%matplotlib inline\n",
    "import math"
   ]
  },
  {
   "attachments": {},
   "cell_type": "markdown",
   "id": "03f80118",
   "metadata": {},
   "source": [
    "LOADING AND EXPLORING DATA"
   ]
  },
  {
   "cell_type": "code",
   "execution_count": 2,
   "id": "fe809805",
   "metadata": {},
   "outputs": [],
   "source": [
    "with open('dataSet/turtles-data/data/annotations.json', 'r', encoding='utf8') as file:\n",
    "    annotations = json.load(file)"
   ]
  },
  {
   "cell_type": "code",
   "execution_count": 3,
   "id": "c26e7858",
   "metadata": {},
   "outputs": [
    {
     "name": "stdout",
     "output_type": "stream",
     "text": [
      "loading annotations into memory...\n",
      "Done (t=15.63s)\n",
      "creating index...\n",
      "index created!\n"
     ]
    }
   ],
   "source": [
    "# initialise COCO API for annotations\n",
    "coco = COCO('dataSet/turtles-data/data/annotations.json')"
   ]
  },
  {
   "cell_type": "code",
   "execution_count": 4,
   "id": "8c25429d",
   "metadata": {},
   "outputs": [],
   "source": [
    "# Retrieve all image IDs\n",
    "img_ids = coco.getImgIds()"
   ]
  },
  {
   "cell_type": "code",
   "execution_count": 1,
   "id": "1a7b45ae",
   "metadata": {},
   "outputs": [
    {
     "ename": "NameError",
     "evalue": "name 'coco' is not defined",
     "output_type": "error",
     "traceback": [
      "\u001b[0;31m---------------------------------------------------------------------------\u001b[0m",
      "\u001b[0;31mNameError\u001b[0m                                 Traceback (most recent call last)",
      "Cell \u001b[0;32mIn[1], line 2\u001b[0m\n\u001b[1;32m      1\u001b[0m data \u001b[39m=\u001b[39m []\n\u001b[0;32m----> 2\u001b[0m cat_ids \u001b[39m=\u001b[39m coco\u001b[39m.\u001b[39mgetCatIds()\n\u001b[1;32m      3\u001b[0m batch_size \u001b[39m=\u001b[39m \u001b[39m10\u001b[39m\n\u001b[1;32m      5\u001b[0m \u001b[39mfor\u001b[39;00m i \u001b[39min\u001b[39;00m \u001b[39mrange\u001b[39m(\u001b[39m0\u001b[39m, math\u001b[39m.\u001b[39mceil(\u001b[39mlen\u001b[39m(img_ids)), batch_size):\n",
      "\u001b[0;31mNameError\u001b[0m: name 'coco' is not defined"
     ]
    }
   ],
   "source": [
    "data = []\n",
    "cat_ids = coco.getCatIds()\n",
    "batch_size = 10\n",
    "\n",
    "for i in range(0, math.ceil(len(img_ids)), batch_size):\n",
    "    batch_data = []\n",
    "    for img_id in range(i, min(i + batch_size, math.ceil(len(img_ids)))):\n",
    "        img = coco.loadImgs(img_id + 1)[0]\n",
    "        file_name = \"dataSet/turtles-data/data/\" + img['file_name']\n",
    "        image = np.array(Image.open(file_name))\n",
    "\n",
    "        # Get annotation information\n",
    "        anns_ids = coco.getAnnIds(imgIds=img['id'], catIds=cat_ids, iscrowd=None)\n",
    "        anns = coco.loadAnns(anns_ids)\n",
    "\n",
    "\n",
    "        # Create mask for annotations, if any exist\n",
    "        if anns:\n",
    "            mask = coco.annToMask(anns[0])\n",
    "            for i in range(len(anns)):\n",
    "                mask += coco.annToMask(anns[i])\n",
    "        else:\n",
    "            mask = np.zeros((image.shape[0], image.shape[1]), dtype=np.uint8)\n",
    "\n",
    "        batch_data.append({'input': image, 'expected_mask': mask})\n",
    "    \n",
    "    # After processing each batch, add it to the main data list\n",
    "    data.extend(batch_data)\n",
    "\n",
    "# Create DataFrame from the collected data\n",
    "df = pd.DataFrame(data)"
   ]
  },
  {
   "cell_type": "code",
   "execution_count": 7,
   "id": "2ece6a99",
   "metadata": {},
   "outputs": [
    {
     "data": {
      "text/plain": [
       "(4365, 2)"
      ]
     },
     "execution_count": 7,
     "metadata": {},
     "output_type": "execute_result"
    }
   ],
   "source": [
    "df.shape"
   ]
  },
  {
   "cell_type": "code",
   "execution_count": 8,
   "id": "1a7b45ae",
   "metadata": {},
   "outputs": [
    {
     "ename": "",
     "evalue": "",
     "output_type": "error",
     "traceback": [
      "\u001b[1;31mCanceled future for execute_request message before replies were done"
     ]
    },
    {
     "ename": "",
     "evalue": "",
     "output_type": "error",
     "traceback": [
      "\u001b[1;31mThe Kernel crashed while executing code in the the current cell or a previous cell. Please review the code in the cell(s) to identify a possible cause of the failure. Click <a href='https://aka.ms/vscodeJupyterKernelCrash'>here</a> for more info. View Jupyter <a href='command:jupyter.viewOutput'>log</a> for further details."
     ]
    }
   ],
   "source": [
    "data = []\n",
    "for i in range(math.ceil(len(img_ids)/2) + 1, len(img_ids), batch_size):\n",
    "    batch_data = []\n",
    "    for img_id in range(i, min(i + batch_size, len(img_ids))):\n",
    "        img = coco.loadImgs(img_id + 1)[0]\n",
    "        file_name = \"dataSet/turtles-data/data/\" + img['file_name']\n",
    "        image = np.array(Image.open(file_name))\n",
    "\n",
    "        # Get annotation information\n",
    "        anns_ids = coco.getAnnIds(imgIds=img['id'], catIds=cat_ids, iscrowd=None)\n",
    "        anns = coco.loadAnns(anns_ids)\n",
    "\n",
    "\n",
    "        # Create mask for annotations, if any exist\n",
    "        if anns:\n",
    "            mask = coco.annToMask(anns[0])\n",
    "            for i in range(len(anns)):\n",
    "                mask += coco.annToMask(anns[i])\n",
    "        else:\n",
    "            mask = np.zeros((image.shape[0], image.shape[1]), dtype=np.uint8)\n",
    "\n",
    "        batch_data.append({'input': image, 'expected_mask': mask})\n",
    "    \n",
    "    # After processing each batch, add it to the main data list\n",
    "    data.extend(batch_data)\n",
    "\n",
    "\n",
    "df = df.append(data, ignore_index=True)"
   ]
  },
  {
   "cell_type": "code",
   "execution_count": null,
   "id": "c86d627b",
   "metadata": {},
   "outputs": [],
   "source": [
    "df.shape"
   ]
  },
  {
   "attachments": {},
   "cell_type": "markdown",
   "id": "4d28359a",
   "metadata": {},
   "source": []
  },
  {
   "cell_type": "code",
   "execution_count": null,
   "id": "daa04f22",
   "metadata": {},
   "outputs": [
    {
     "ename": "IndexError",
     "evalue": "single positional indexer is out-of-bounds",
     "output_type": "error",
     "traceback": [
      "\u001b[0;31m---------------------------------------------------------------------------\u001b[0m",
      "\u001b[0;31mIndexError\u001b[0m                                Traceback (most recent call last)",
      "Cell \u001b[0;32mIn[8], line 3\u001b[0m\n\u001b[1;32m      1\u001b[0m \u001b[39m### JUST FOR TESTING IF THE MASK AND INPUT MATCHING IS CORRECT\u001b[39;00m\n\u001b[0;32m----> 3\u001b[0m img \u001b[39m=\u001b[39m df\u001b[39m.\u001b[39miloc[\u001b[39m999\u001b[39m][\u001b[39m'\u001b[39m\u001b[39minput\u001b[39m\u001b[39m'\u001b[39m]          \u001b[39m# Get the first image\u001b[39;00m\n\u001b[1;32m      4\u001b[0m mask \u001b[39m=\u001b[39m df\u001b[39m.\u001b[39miloc[\u001b[39m999\u001b[39m][\u001b[39m'\u001b[39m\u001b[39mexpected_mask\u001b[39m\u001b[39m'\u001b[39m] \u001b[39m# Get the first mask\u001b[39;00m\n\u001b[1;32m      6\u001b[0m \u001b[39m# Display the image\u001b[39;00m\n",
      "File \u001b[0;32m~/anaconda3/lib/python3.11/site-packages/pandas/core/indexing.py:1103\u001b[0m, in \u001b[0;36m_LocationIndexer.__getitem__\u001b[0;34m(self, key)\u001b[0m\n\u001b[1;32m   1100\u001b[0m axis \u001b[39m=\u001b[39m \u001b[39mself\u001b[39m\u001b[39m.\u001b[39maxis \u001b[39mor\u001b[39;00m \u001b[39m0\u001b[39m\n\u001b[1;32m   1102\u001b[0m maybe_callable \u001b[39m=\u001b[39m com\u001b[39m.\u001b[39mapply_if_callable(key, \u001b[39mself\u001b[39m\u001b[39m.\u001b[39mobj)\n\u001b[0;32m-> 1103\u001b[0m \u001b[39mreturn\u001b[39;00m \u001b[39mself\u001b[39m\u001b[39m.\u001b[39m_getitem_axis(maybe_callable, axis\u001b[39m=\u001b[39maxis)\n",
      "File \u001b[0;32m~/anaconda3/lib/python3.11/site-packages/pandas/core/indexing.py:1656\u001b[0m, in \u001b[0;36m_iLocIndexer._getitem_axis\u001b[0;34m(self, key, axis)\u001b[0m\n\u001b[1;32m   1653\u001b[0m     \u001b[39mraise\u001b[39;00m \u001b[39mTypeError\u001b[39;00m(\u001b[39m\"\u001b[39m\u001b[39mCannot index by location index with a non-integer key\u001b[39m\u001b[39m\"\u001b[39m)\n\u001b[1;32m   1655\u001b[0m \u001b[39m# validate the location\u001b[39;00m\n\u001b[0;32m-> 1656\u001b[0m \u001b[39mself\u001b[39m\u001b[39m.\u001b[39m_validate_integer(key, axis)\n\u001b[1;32m   1658\u001b[0m \u001b[39mreturn\u001b[39;00m \u001b[39mself\u001b[39m\u001b[39m.\u001b[39mobj\u001b[39m.\u001b[39m_ixs(key, axis\u001b[39m=\u001b[39maxis)\n",
      "File \u001b[0;32m~/anaconda3/lib/python3.11/site-packages/pandas/core/indexing.py:1589\u001b[0m, in \u001b[0;36m_iLocIndexer._validate_integer\u001b[0;34m(self, key, axis)\u001b[0m\n\u001b[1;32m   1587\u001b[0m len_axis \u001b[39m=\u001b[39m \u001b[39mlen\u001b[39m(\u001b[39mself\u001b[39m\u001b[39m.\u001b[39mobj\u001b[39m.\u001b[39m_get_axis(axis))\n\u001b[1;32m   1588\u001b[0m \u001b[39mif\u001b[39;00m key \u001b[39m>\u001b[39m\u001b[39m=\u001b[39m len_axis \u001b[39mor\u001b[39;00m key \u001b[39m<\u001b[39m \u001b[39m-\u001b[39mlen_axis:\n\u001b[0;32m-> 1589\u001b[0m     \u001b[39mraise\u001b[39;00m \u001b[39mIndexError\u001b[39;00m(\u001b[39m\"\u001b[39m\u001b[39msingle positional indexer is out-of-bounds\u001b[39m\u001b[39m\"\u001b[39m)\n",
      "\u001b[0;31mIndexError\u001b[0m: single positional indexer is out-of-bounds"
     ]
    }
   ],
   "source": [
    "### JUST FOR TESTING IF THE MASK AND INPUT MATCHING IS CORRECT\n",
    "\n",
    "img = df.iloc[999]['input']          # Get the first image\n",
    "mask = df.iloc[999]['expected_mask'] # Get the first mask\n",
    "\n",
    "# Display the image\n",
    "plt.imshow(img)\n",
    "plt.title('Image')\n",
    "plt.axis('off')\n",
    "plt.show()\n",
    "\n",
    "# Display the mask\n",
    "plt.imshow(mask)  # Use alpha for transparency\n",
    "plt.title('Mask')\n",
    "plt.axis('off')\n",
    "plt.show()"
   ]
  },
  {
   "cell_type": "code",
   "execution_count": null,
   "id": "376ca1e1",
   "metadata": {},
   "outputs": [],
   "source": []
  },
  {
   "attachments": {},
   "cell_type": "markdown",
   "id": "250a45b0",
   "metadata": {},
   "source": [
    "USING THE PREMADE UNET"
   ]
  }
 ],
 "metadata": {
  "kernelspec": {
   "display_name": "base",
   "language": "python",
   "name": "python3"
  },
  "language_info": {
   "codemirror_mode": {
    "name": "ipython",
    "version": 3
   },
   "file_extension": ".py",
   "mimetype": "text/x-python",
   "name": "python",
   "nbconvert_exporter": "python",
   "pygments_lexer": "ipython3",
   "version": "3.11.5"
  },
  "vscode": {
   "interpreter": {
    "hash": "c16352336970d6637b423b0999f8e0286371151edd0114aa7d4081da9d79c418"
   }
  }
 },
 "nbformat": 4,
 "nbformat_minor": 5
}
